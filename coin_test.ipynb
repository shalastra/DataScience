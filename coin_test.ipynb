{
 "cells": [
  {
   "cell_type": "code",
   "execution_count": 1,
   "metadata": {},
   "outputs": [],
   "source": [
    "import scipy as sp\n",
    "from scipy import stats as st\n",
    "import numpy as np"
   ]
  },
  {
   "cell_type": "code",
   "execution_count": 2,
   "metadata": {},
   "outputs": [],
   "source": [
    "h0_propability = 0.5\n",
    "h1_propability = 0.6\n",
    "wanted_significance = 0.05\n",
    "wanted_power = 0.95\n",
    "tosses = 20\n",
    "runs = 10000"
   ]
  },
  {
   "cell_type": "code",
   "execution_count": 3,
   "metadata": {},
   "outputs": [],
   "source": [
    "sample =  st.binom(n=tosses, p = h0_propability).rvs(runs)"
   ]
  },
  {
   "cell_type": "code",
   "execution_count": 4,
   "metadata": {},
   "outputs": [],
   "source": [
    "def pass_sigificance_test(number_of_heads):\n",
    "    return (st.binom_test(number_of_heads, tosses, p = h0_propability, alternative='greater') < wanted_significance)"
   ]
  },
  {
   "cell_type": "code",
   "execution_count": 5,
   "metadata": {},
   "outputs": [],
   "source": [
    "def pass_power_test(number_of_heads):\n",
    "    return (st.binom_test(number_of_heads, tosses, p = h1_propability, alternative='less') > wanted_power)"
   ]
  },
  {
   "cell_type": "code",
   "execution_count": 6,
   "metadata": {},
   "outputs": [
    {
     "name": "stdout",
     "output_type": "stream",
     "text": [
      "70 runs out of 10000 passed both tests!\n",
      "In mean we would have to make 143 runs with 20 coin tosses each to get a result with the required sigificance and power.\n"
     ]
    }
   ],
   "source": [
    "# test our complete sample and record how many runs pass both tests\n",
    "passed = 0\n",
    "for heads_count in sample:\n",
    "    if not pass_sigificance_test(heads_count):\n",
    "        continue\n",
    "    if not pass_power_test(heads_count):\n",
    "        continue\n",
    "    passed += 1\n",
    "    \n",
    "print(str(passed) + \" runs out of \" + str(runs) + \" passed both tests!\")\n",
    "print(\"In mean we would have to make \" + str(round(runs/passed)) + \" runs with \" + str(tosses) + \" coin tosses each to get a result with the required sigificance and power.\")"
   ]
  }
 ],
 "metadata": {
  "kernelspec": {
   "display_name": "Python 3",
   "language": "python",
   "name": "python3"
  },
  "language_info": {
   "codemirror_mode": {
    "name": "ipython",
    "version": 3
   },
   "file_extension": ".py",
   "mimetype": "text/x-python",
   "name": "python",
   "nbconvert_exporter": "python",
   "pygments_lexer": "ipython3",
   "version": "3.5.2"
  }
 },
 "nbformat": 4,
 "nbformat_minor": 2
}
