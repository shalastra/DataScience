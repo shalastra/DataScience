{
 "cells": [
  {
   "cell_type": "markdown",
   "metadata": {},
   "source": [
    "# Predicting sentiment from product reviews"
   ]
  },
  {
   "cell_type": "code",
   "execution_count": 32,
   "metadata": {
    "collapsed": true
   },
   "outputs": [],
   "source": [
    "import pandas\n",
    "import sklearn\n",
    "import numpy as np"
   ]
  },
  {
   "cell_type": "markdown",
   "metadata": {},
   "source": [
    "### Loading reviews for a set of baby products."
   ]
  },
  {
   "cell_type": "code",
   "execution_count": 33,
   "metadata": {},
   "outputs": [],
   "source": [
    "data = pandas.read_csv('../lectures/data/amazon_baby.csv')"
   ]
  },
  {
   "cell_type": "code",
   "execution_count": 34,
   "metadata": {},
   "outputs": [
    {
     "data": {
      "text/html": [
       "<div>\n",
       "<style>\n",
       "    .dataframe thead tr:only-child th {\n",
       "        text-align: right;\n",
       "    }\n",
       "\n",
       "    .dataframe thead th {\n",
       "        text-align: left;\n",
       "    }\n",
       "\n",
       "    .dataframe tbody tr th {\n",
       "        vertical-align: top;\n",
       "    }\n",
       "</style>\n",
       "<table border=\"1\" class=\"dataframe\">\n",
       "  <thead>\n",
       "    <tr style=\"text-align: right;\">\n",
       "      <th></th>\n",
       "      <th>name</th>\n",
       "      <th>review</th>\n",
       "      <th>rating</th>\n",
       "    </tr>\n",
       "  </thead>\n",
       "  <tbody>\n",
       "    <tr>\n",
       "      <th>0</th>\n",
       "      <td>Planetwise Flannel Wipes</td>\n",
       "      <td>These flannel wipes are OK, but in my opinion ...</td>\n",
       "      <td>3</td>\n",
       "    </tr>\n",
       "    <tr>\n",
       "      <th>1</th>\n",
       "      <td>Planetwise Wipe Pouch</td>\n",
       "      <td>it came early and was not disappointed. i love...</td>\n",
       "      <td>5</td>\n",
       "    </tr>\n",
       "    <tr>\n",
       "      <th>2</th>\n",
       "      <td>Annas Dream Full Quilt with 2 Shams</td>\n",
       "      <td>Very soft and comfortable and warmer than it l...</td>\n",
       "      <td>5</td>\n",
       "    </tr>\n",
       "    <tr>\n",
       "      <th>3</th>\n",
       "      <td>Stop Pacifier Sucking without tears with Thumb...</td>\n",
       "      <td>This is a product well worth the purchase.  I ...</td>\n",
       "      <td>5</td>\n",
       "    </tr>\n",
       "    <tr>\n",
       "      <th>4</th>\n",
       "      <td>Stop Pacifier Sucking without tears with Thumb...</td>\n",
       "      <td>All of my kids have cried non-stop when I trie...</td>\n",
       "      <td>5</td>\n",
       "    </tr>\n",
       "  </tbody>\n",
       "</table>\n",
       "</div>"
      ],
      "text/plain": [
       "                                                name  \\\n",
       "0                           Planetwise Flannel Wipes   \n",
       "1                              Planetwise Wipe Pouch   \n",
       "2                Annas Dream Full Quilt with 2 Shams   \n",
       "3  Stop Pacifier Sucking without tears with Thumb...   \n",
       "4  Stop Pacifier Sucking without tears with Thumb...   \n",
       "\n",
       "                                              review  rating  \n",
       "0  These flannel wipes are OK, but in my opinion ...       3  \n",
       "1  it came early and was not disappointed. i love...       5  \n",
       "2  Very soft and comfortable and warmer than it l...       5  \n",
       "3  This is a product well worth the purchase.  I ...       5  \n",
       "4  All of my kids have cried non-stop when I trie...       5  "
      ]
     },
     "execution_count": 34,
     "metadata": {},
     "output_type": "execute_result"
    }
   ],
   "source": [
    "data.head()"
   ]
  },
  {
   "cell_type": "markdown",
   "metadata": {},
   "source": [
    "### Data cleaning"
   ]
  },
  {
   "cell_type": "code",
   "execution_count": 35,
   "metadata": {},
   "outputs": [
    {
     "data": {
      "text/plain": [
       "'These flannel wipes are OK, but in my opinion not worth keeping.  I also ordered someImse Vimse Cloth Wipes-Ocean Blue-12 countwhich are larger, had a nicer, softer texture and just seemed higher quality.  I use cloth wipes for hands and faces and have been usingThirsties 6 Pack Fab Wipes, Boyfor about 8 months now and need to replace them because they are starting to get rough and have had stink issues for a while that stripping no longer handles.'"
      ]
     },
     "execution_count": 35,
     "metadata": {},
     "output_type": "execute_result"
    }
   ],
   "source": [
    "data['review'][0]"
   ]
  },
  {
   "cell_type": "markdown",
   "metadata": {},
   "source": [
    "Look at reviews 30 to 50, we see some bad data for review #38"
   ]
  },
  {
   "cell_type": "code",
   "execution_count": 36,
   "metadata": {},
   "outputs": [
    {
     "data": {
      "text/plain": [
       "30    Beautiful little book.  A great little short s...\n",
       "31    This book is so worth the money. It says 9+ mo...\n",
       "32    we just got this book for our one-year-old and...\n",
       "33    The book is colorful and is perfect for 6month...\n",
       "34    The book is cute, and we are huge fans of Lama...\n",
       "35    What a great book for babies!  I'd been lookin...\n",
       "36    My son loved this book as an infant.  It was p...\n",
       "37    Our baby loves this book & has loved it for a ...\n",
       "38                                                  NaN\n",
       "39    My son likes brushing elmo's teeth. Almost too...\n",
       "40    This was a birthday present for my 2 year old ...\n",
       "41    This bear is absolutely adorable and I would g...\n",
       "42    My baby absolutely loves Elmo and so this book...\n",
       "43    I bought two for recent baby showers!  The boo...\n",
       "44    We wanted to get another book like the Big Bir...\n",
       "45    This is a cute little peek-a-boo story book.  ...\n",
       "46    My 3 month old son loves this book. We read it...\n",
       "47    Very cute interactive book! My son loves this ...\n",
       "48    Bought for granddauchildren and they play with...\n",
       "49    I have teething babies and these were great fo...\n",
       "Name: review, dtype: object"
      ]
     },
     "execution_count": 36,
     "metadata": {},
     "output_type": "execute_result"
    }
   ],
   "source": [
    "data['review'][30:50]"
   ]
  },
  {
   "cell_type": "markdown",
   "metadata": {},
   "source": [
    "So let's clean that up"
   ]
  },
  {
   "cell_type": "code",
   "execution_count": 37,
   "metadata": {
    "collapsed": true
   },
   "outputs": [],
   "source": [
    "def cleanNaN(value):\n",
    "    if pandas.isnull(value):\n",
    "        return \"\"\n",
    "    else:\n",
    "        return value"
   ]
  },
  {
   "cell_type": "code",
   "execution_count": 38,
   "metadata": {
    "collapsed": true
   },
   "outputs": [],
   "source": [
    "data['review'] = data['review'].apply(cleanNaN)"
   ]
  },
  {
   "cell_type": "code",
   "execution_count": 39,
   "metadata": {},
   "outputs": [
    {
     "data": {
      "text/plain": [
       "30    Beautiful little book.  A great little short s...\n",
       "31    This book is so worth the money. It says 9+ mo...\n",
       "32    we just got this book for our one-year-old and...\n",
       "33    The book is colorful and is perfect for 6month...\n",
       "34    The book is cute, and we are huge fans of Lama...\n",
       "35    What a great book for babies!  I'd been lookin...\n",
       "36    My son loved this book as an infant.  It was p...\n",
       "37    Our baby loves this book & has loved it for a ...\n",
       "38                                                     \n",
       "39    My son likes brushing elmo's teeth. Almost too...\n",
       "40    This was a birthday present for my 2 year old ...\n",
       "41    This bear is absolutely adorable and I would g...\n",
       "42    My baby absolutely loves Elmo and so this book...\n",
       "43    I bought two for recent baby showers!  The boo...\n",
       "44    We wanted to get another book like the Big Bir...\n",
       "45    This is a cute little peek-a-boo story book.  ...\n",
       "46    My 3 month old son loves this book. We read it...\n",
       "47    Very cute interactive book! My son loves this ...\n",
       "48    Bought for granddauchildren and they play with...\n",
       "49    I have teething babies and these were great fo...\n",
       "Name: review, dtype: object"
      ]
     },
     "execution_count": 39,
     "metadata": {},
     "output_type": "execute_result"
    }
   ],
   "source": [
    "data['review'][30:50]"
   ]
  },
  {
   "cell_type": "markdown",
   "metadata": {},
   "source": [
    "Now the data looks cleaner. We no longer have the NaN for the 38th review.\n",
    "## Build the word count vector for each review"
   ]
  },
  {
   "cell_type": "code",
   "execution_count": 40,
   "metadata": {
    "collapsed": true
   },
   "outputs": [],
   "source": [
    "from sklearn.feature_extraction.text import CountVectorizer"
   ]
  },
  {
   "cell_type": "code",
   "execution_count": 41,
   "metadata": {
    "collapsed": true
   },
   "outputs": [],
   "source": [
    "vect = CountVectorizer(token_pattern = r'\\b\\w+\\b')\n",
    "features = vect.fit_transform(data['review'])"
   ]
  },
  {
   "cell_type": "code",
   "execution_count": 42,
   "metadata": {},
   "outputs": [
    {
     "data": {
      "text/plain": [
       "scipy.sparse.csr.csr_matrix"
      ]
     },
     "execution_count": 42,
     "metadata": {},
     "output_type": "execute_result"
    }
   ],
   "source": [
    "type(features)"
   ]
  },
  {
   "cell_type": "code",
   "execution_count": 43,
   "metadata": {},
   "outputs": [
    {
     "data": {
      "text/plain": [
       "(183531, 68069)"
      ]
     },
     "execution_count": 43,
     "metadata": {},
     "output_type": "execute_result"
    }
   ],
   "source": [
    "features.shape"
   ]
  },
  {
   "cell_type": "markdown",
   "metadata": {},
   "source": [
    "There are about 68k words.\n",
    "\n",
    "Let's look at the first 20 features (the words). Note that the `u'` just means Python is internally representing each word as a unicode string."
   ]
  },
  {
   "cell_type": "code",
   "execution_count": 44,
   "metadata": {},
   "outputs": [
    {
     "data": {
      "text/plain": [
       "['0',\n",
       " '00',\n",
       " '000',\n",
       " '0001',\n",
       " '000ft',\n",
       " '000importer',\n",
       " '000sqft',\n",
       " '001',\n",
       " '001cm',\n",
       " '00am',\n",
       " '00amcreepy',\n",
       " '00cons',\n",
       " '00dollars',\n",
       " '00etwhile',\n",
       " '00not',\n",
       " '00pm',\n",
       " '01',\n",
       " '01262',\n",
       " '016sc01',\n",
       " '01992']"
      ]
     },
     "execution_count": 44,
     "metadata": {},
     "output_type": "execute_result"
    }
   ],
   "source": [
    "vect.get_feature_names()[0:20]"
   ]
  },
  {
   "cell_type": "markdown",
   "metadata": {},
   "source": [
    "## Build a sentiment classifier\n",
    "Examine the ratings for **all** the reviews we have:"
   ]
  },
  {
   "cell_type": "code",
   "execution_count": 46,
   "metadata": {},
   "outputs": [
    {
     "data": {
      "text/plain": [
       "<matplotlib.axes._subplots.AxesSubplot at 0x7f2cb6111518>"
      ]
     },
     "execution_count": 46,
     "metadata": {},
     "output_type": "execute_result"
    }
   ],
   "source": [
    "data['rating'].plot(y='rating', orientation='horizontal', kind='hist', bins=5)"
   ]
  },
  {
   "cell_type": "markdown",
   "metadata": {},
   "source": [
    "## Define what's a positive and a negative sentiment\n",
    "\n",
    "We will ignore all reviews with rating = 3, since they tend to have a neutral sentiment.  Reviews with a rating of 4 or higher will be considered positive, while the ones with rating of 2 or lower will have a negative sentiment.   "
   ]
  },
  {
   "cell_type": "code",
   "execution_count": 47,
   "metadata": {
    "collapsed": true
   },
   "outputs": [],
   "source": [
    "#ignore all 3* reviews\n",
    "data = data[data['rating'] != 3]"
   ]
  },
  {
   "cell_type": "code",
   "execution_count": 48,
   "metadata": {
    "collapsed": true
   },
   "outputs": [],
   "source": [
    "#positive sentiment = 4* or 5* reviews\n",
    "data['sentiment'] = data['rating'] >=4"
   ]
  },
  {
   "cell_type": "code",
   "execution_count": 49,
   "metadata": {},
   "outputs": [
    {
     "data": {
      "text/html": [
       "<div>\n",
       "<style>\n",
       "    .dataframe thead tr:only-child th {\n",
       "        text-align: right;\n",
       "    }\n",
       "\n",
       "    .dataframe thead th {\n",
       "        text-align: left;\n",
       "    }\n",
       "\n",
       "    .dataframe tbody tr th {\n",
       "        vertical-align: top;\n",
       "    }\n",
       "</style>\n",
       "<table border=\"1\" class=\"dataframe\">\n",
       "  <thead>\n",
       "    <tr style=\"text-align: right;\">\n",
       "      <th></th>\n",
       "      <th>name</th>\n",
       "      <th>review</th>\n",
       "      <th>rating</th>\n",
       "      <th>sentiment</th>\n",
       "    </tr>\n",
       "  </thead>\n",
       "  <tbody>\n",
       "    <tr>\n",
       "      <th>1</th>\n",
       "      <td>Planetwise Wipe Pouch</td>\n",
       "      <td>it came early and was not disappointed. i love...</td>\n",
       "      <td>5</td>\n",
       "      <td>True</td>\n",
       "    </tr>\n",
       "    <tr>\n",
       "      <th>2</th>\n",
       "      <td>Annas Dream Full Quilt with 2 Shams</td>\n",
       "      <td>Very soft and comfortable and warmer than it l...</td>\n",
       "      <td>5</td>\n",
       "      <td>True</td>\n",
       "    </tr>\n",
       "    <tr>\n",
       "      <th>3</th>\n",
       "      <td>Stop Pacifier Sucking without tears with Thumb...</td>\n",
       "      <td>This is a product well worth the purchase.  I ...</td>\n",
       "      <td>5</td>\n",
       "      <td>True</td>\n",
       "    </tr>\n",
       "    <tr>\n",
       "      <th>4</th>\n",
       "      <td>Stop Pacifier Sucking without tears with Thumb...</td>\n",
       "      <td>All of my kids have cried non-stop when I trie...</td>\n",
       "      <td>5</td>\n",
       "      <td>True</td>\n",
       "    </tr>\n",
       "    <tr>\n",
       "      <th>5</th>\n",
       "      <td>Stop Pacifier Sucking without tears with Thumb...</td>\n",
       "      <td>When the Binky Fairy came to our house, we did...</td>\n",
       "      <td>5</td>\n",
       "      <td>True</td>\n",
       "    </tr>\n",
       "  </tbody>\n",
       "</table>\n",
       "</div>"
      ],
      "text/plain": [
       "                                                name  \\\n",
       "1                              Planetwise Wipe Pouch   \n",
       "2                Annas Dream Full Quilt with 2 Shams   \n",
       "3  Stop Pacifier Sucking without tears with Thumb...   \n",
       "4  Stop Pacifier Sucking without tears with Thumb...   \n",
       "5  Stop Pacifier Sucking without tears with Thumb...   \n",
       "\n",
       "                                              review  rating  sentiment  \n",
       "1  it came early and was not disappointed. i love...       5       True  \n",
       "2  Very soft and comfortable and warmer than it l...       5       True  \n",
       "3  This is a product well worth the purchase.  I ...       5       True  \n",
       "4  All of my kids have cried non-stop when I trie...       5       True  \n",
       "5  When the Binky Fairy came to our house, we did...       5       True  "
      ]
     },
     "execution_count": 49,
     "metadata": {},
     "output_type": "execute_result"
    }
   ],
   "source": [
    "data.head()"
   ]
  },
  {
   "cell_type": "markdown",
   "metadata": {},
   "source": [
    "## Let's train the sentiment classifier"
   ]
  },
  {
   "cell_type": "code",
   "execution_count": 50,
   "metadata": {},
   "outputs": [
    {
     "data": {
      "text/plain": [
       "True     140259\n",
       "False     26493\n",
       "Name: sentiment, dtype: int64"
      ]
     },
     "execution_count": 50,
     "metadata": {},
     "output_type": "execute_result"
    }
   ],
   "source": [
    "data.sentiment.value_counts()"
   ]
  },
  {
   "cell_type": "code",
   "execution_count": 51,
   "metadata": {
    "collapsed": true
   },
   "outputs": [],
   "source": [
    "# Define X and y\n",
    "X = data['review']\n",
    "y = data['sentiment']"
   ]
  },
  {
   "cell_type": "code",
   "execution_count": 52,
   "metadata": {},
   "outputs": [
    {
     "name": "stdout",
     "output_type": "stream",
     "text": [
      "(133401,)\n",
      "(33351,)\n"
     ]
    }
   ],
   "source": [
    "# split into training and testing sets\n",
    "from sklearn.cross_validation import train_test_split\n",
    "X_train, X_test, y_train, y_test = train_test_split(X, y, test_size=0.2, random_state=42)\n",
    "print(X_train.shape)\n",
    "print(X_test.shape)"
   ]
  },
  {
   "cell_type": "code",
   "execution_count": 53,
   "metadata": {
    "collapsed": true
   },
   "outputs": [],
   "source": [
    "# instantiate the vectorizer\n",
    "vect = CountVectorizer()"
   ]
  },
  {
   "cell_type": "code",
   "execution_count": 54,
   "metadata": {},
   "outputs": [
    {
     "data": {
      "text/plain": [
       "<133401x57485 sparse matrix of type '<class 'numpy.int64'>'\n",
       "\twith 7080210 stored elements in Compressed Sparse Row format>"
      ]
     },
     "execution_count": 54,
     "metadata": {},
     "output_type": "execute_result"
    }
   ],
   "source": [
    "# learn training data vocabulary, then create document-term matrix\n",
    "vect.fit(X_train)\n",
    "X_train_dtm = vect.transform(X_train)\n",
    "X_train_dtm"
   ]
  },
  {
   "cell_type": "code",
   "execution_count": 55,
   "metadata": {},
   "outputs": [
    {
     "data": {
      "text/plain": [
       "<33351x57485 sparse matrix of type '<class 'numpy.int64'>'\n",
       "\twith 1749877 stored elements in Compressed Sparse Row format>"
      ]
     },
     "execution_count": 55,
     "metadata": {},
     "output_type": "execute_result"
    }
   ],
   "source": [
    "# transform testing data (using fitted vocabulary) into a document-term matrix\n",
    "X_test_dtm = vect.transform(X_test)\n",
    "X_test_dtm"
   ]
  },
  {
   "cell_type": "code",
   "execution_count": 56,
   "metadata": {},
   "outputs": [
    {
     "data": {
      "text/plain": [
       "LogisticRegression(C=1.0, class_weight=None, dual=False, fit_intercept=True,\n",
       "          intercept_scaling=1, max_iter=100, multi_class='ovr', n_jobs=1,\n",
       "          penalty='l2', random_state=None, solver='liblinear', tol=0.0001,\n",
       "          verbose=0, warm_start=False)"
      ]
     },
     "execution_count": 56,
     "metadata": {},
     "output_type": "execute_result"
    }
   ],
   "source": [
    "from sklearn.linear_model import LogisticRegression\n",
    "logreg = LogisticRegression()\n",
    "logreg.fit(X_train_dtm, y_train)"
   ]
  },
  {
   "cell_type": "code",
   "execution_count": 57,
   "metadata": {
    "collapsed": true
   },
   "outputs": [],
   "source": [
    "# class predictions and predicted probabilities\n",
    "y_pred_class = logreg.predict(X_test_dtm)\n",
    "y_pred_prob = logreg.predict_proba(X_test_dtm)[:, 1]"
   ]
  },
  {
   "cell_type": "code",
   "execution_count": 62,
   "metadata": {},
   "outputs": [
    {
     "data": {
      "text/plain": [
       "array([ 0.49793407,  0.20228641,  0.09211547, ...,  0.99998893,\n",
       "        0.99982235,  0.92829456])"
      ]
     },
     "execution_count": 62,
     "metadata": {},
     "output_type": "execute_result"
    }
   ],
   "source": [
    "y_pred_prob"
   ]
  },
  {
   "cell_type": "markdown",
   "metadata": {},
   "source": [
    "## Evaluate the model \n",
    "By looking at its accuracy and its [area under the curve](http://scikit-learn.org/stable/modules/generated/sklearn.metrics.roc_auc_score.html#sklearn.metrics.roc_auc_score) score:"
   ]
  },
  {
   "cell_type": "code",
   "execution_count": 58,
   "metadata": {},
   "outputs": [
    {
     "name": "stdout",
     "output_type": "stream",
     "text": [
      "0.933885040928\n",
      "0.95652134862\n"
     ]
    }
   ],
   "source": [
    "# calculate accuracy and AUC\n",
    "from sklearn import metrics\n",
    "print(metrics.accuracy_score(y_test, y_pred_class))\n",
    "print(metrics.roc_auc_score(y_test, y_pred_prob))"
   ]
  },
  {
   "cell_type": "markdown",
   "metadata": {},
   "source": [
    "And the [confusion matrix](https://en.wikipedia.org/wiki/Confusion_matrix):"
   ]
  },
  {
   "cell_type": "code",
   "execution_count": 59,
   "metadata": {},
   "outputs": [
    {
     "name": "stdout",
     "output_type": "stream",
     "text": [
      "[[ 3862  1412]\n",
      " [  793 27284]]\n"
     ]
    }
   ],
   "source": [
    "print(metrics.confusion_matrix(y_test, y_pred_class))"
   ]
  },
  {
   "cell_type": "code",
   "execution_count": 60,
   "metadata": {},
   "outputs": [
    {
     "data": {
      "text/html": [
       "<div>\n",
       "<style>\n",
       "    .dataframe thead tr:only-child th {\n",
       "        text-align: right;\n",
       "    }\n",
       "\n",
       "    .dataframe thead th {\n",
       "        text-align: left;\n",
       "    }\n",
       "\n",
       "    .dataframe tbody tr th {\n",
       "        vertical-align: top;\n",
       "    }\n",
       "</style>\n",
       "<table border=\"1\" class=\"dataframe\">\n",
       "  <thead>\n",
       "    <tr style=\"text-align: right;\">\n",
       "      <th></th>\n",
       "      <th>name</th>\n",
       "      <th>review</th>\n",
       "      <th>rating</th>\n",
       "      <th>sentiment</th>\n",
       "    </tr>\n",
       "  </thead>\n",
       "  <tbody>\n",
       "    <tr>\n",
       "      <th>1</th>\n",
       "      <td>Planetwise Wipe Pouch</td>\n",
       "      <td>it came early and was not disappointed. i love...</td>\n",
       "      <td>5</td>\n",
       "      <td>True</td>\n",
       "    </tr>\n",
       "    <tr>\n",
       "      <th>2</th>\n",
       "      <td>Annas Dream Full Quilt with 2 Shams</td>\n",
       "      <td>Very soft and comfortable and warmer than it l...</td>\n",
       "      <td>5</td>\n",
       "      <td>True</td>\n",
       "    </tr>\n",
       "    <tr>\n",
       "      <th>3</th>\n",
       "      <td>Stop Pacifier Sucking without tears with Thumb...</td>\n",
       "      <td>This is a product well worth the purchase.  I ...</td>\n",
       "      <td>5</td>\n",
       "      <td>True</td>\n",
       "    </tr>\n",
       "    <tr>\n",
       "      <th>4</th>\n",
       "      <td>Stop Pacifier Sucking without tears with Thumb...</td>\n",
       "      <td>All of my kids have cried non-stop when I trie...</td>\n",
       "      <td>5</td>\n",
       "      <td>True</td>\n",
       "    </tr>\n",
       "    <tr>\n",
       "      <th>5</th>\n",
       "      <td>Stop Pacifier Sucking without tears with Thumb...</td>\n",
       "      <td>When the Binky Fairy came to our house, we did...</td>\n",
       "      <td>5</td>\n",
       "      <td>True</td>\n",
       "    </tr>\n",
       "    <tr>\n",
       "      <th>6</th>\n",
       "      <td>A Tale of Baby's Days with Peter Rabbit</td>\n",
       "      <td>Lovely book, it's bound tightly so you may not...</td>\n",
       "      <td>4</td>\n",
       "      <td>True</td>\n",
       "    </tr>\n",
       "    <tr>\n",
       "      <th>7</th>\n",
       "      <td>Baby Tracker&amp;reg; - Daily Childcare Journal, S...</td>\n",
       "      <td>Perfect for new parents. We were able to keep ...</td>\n",
       "      <td>5</td>\n",
       "      <td>True</td>\n",
       "    </tr>\n",
       "    <tr>\n",
       "      <th>8</th>\n",
       "      <td>Baby Tracker&amp;reg; - Daily Childcare Journal, S...</td>\n",
       "      <td>A friend of mine pinned this product on Pinter...</td>\n",
       "      <td>5</td>\n",
       "      <td>True</td>\n",
       "    </tr>\n",
       "    <tr>\n",
       "      <th>9</th>\n",
       "      <td>Baby Tracker&amp;reg; - Daily Childcare Journal, S...</td>\n",
       "      <td>This has been an easy way for my nanny to reco...</td>\n",
       "      <td>4</td>\n",
       "      <td>True</td>\n",
       "    </tr>\n",
       "    <tr>\n",
       "      <th>10</th>\n",
       "      <td>Baby Tracker&amp;reg; - Daily Childcare Journal, S...</td>\n",
       "      <td>I love this journal and our nanny uses it ever...</td>\n",
       "      <td>4</td>\n",
       "      <td>True</td>\n",
       "    </tr>\n",
       "    <tr>\n",
       "      <th>11</th>\n",
       "      <td>Baby Tracker&amp;reg; - Daily Childcare Journal, S...</td>\n",
       "      <td>This book is perfect!  I'm a first time new mo...</td>\n",
       "      <td>5</td>\n",
       "      <td>True</td>\n",
       "    </tr>\n",
       "    <tr>\n",
       "      <th>12</th>\n",
       "      <td>Baby Tracker&amp;reg; - Daily Childcare Journal, S...</td>\n",
       "      <td>I originally just gave the nanny a pad of pape...</td>\n",
       "      <td>4</td>\n",
       "      <td>True</td>\n",
       "    </tr>\n",
       "    <tr>\n",
       "      <th>14</th>\n",
       "      <td>Nature's Lullabies First Year Sticker Calendar</td>\n",
       "      <td>Space for monthly photos, info and a lot of us...</td>\n",
       "      <td>5</td>\n",
       "      <td>True</td>\n",
       "    </tr>\n",
       "    <tr>\n",
       "      <th>15</th>\n",
       "      <td>Nature's Lullabies First Year Sticker Calendar</td>\n",
       "      <td>I bought this calender for myself for my secon...</td>\n",
       "      <td>4</td>\n",
       "      <td>True</td>\n",
       "    </tr>\n",
       "    <tr>\n",
       "      <th>16</th>\n",
       "      <td>Nature's Lullabies First Year Sticker Calendar</td>\n",
       "      <td>I love this little calender, you can keep trac...</td>\n",
       "      <td>5</td>\n",
       "      <td>True</td>\n",
       "    </tr>\n",
       "    <tr>\n",
       "      <th>17</th>\n",
       "      <td>Nature's Lullabies Second Year Sticker Calendar</td>\n",
       "      <td>This was the only calender I could find for th...</td>\n",
       "      <td>5</td>\n",
       "      <td>True</td>\n",
       "    </tr>\n",
       "    <tr>\n",
       "      <th>18</th>\n",
       "      <td>Nature's Lullabies Second Year Sticker Calendar</td>\n",
       "      <td>I completed a calendar for my son's first year...</td>\n",
       "      <td>4</td>\n",
       "      <td>True</td>\n",
       "    </tr>\n",
       "    <tr>\n",
       "      <th>19</th>\n",
       "      <td>Nature's Lullabies Second Year Sticker Calendar</td>\n",
       "      <td>We wanted to get something to keep track of ou...</td>\n",
       "      <td>5</td>\n",
       "      <td>True</td>\n",
       "    </tr>\n",
       "    <tr>\n",
       "      <th>20</th>\n",
       "      <td>Nature's Lullabies Second Year Sticker Calendar</td>\n",
       "      <td>I had a hard time finding a second year calend...</td>\n",
       "      <td>5</td>\n",
       "      <td>True</td>\n",
       "    </tr>\n",
       "    <tr>\n",
       "      <th>21</th>\n",
       "      <td>Nature's Lullabies Second Year Sticker Calendar</td>\n",
       "      <td>I only purchased a second-year calendar for my...</td>\n",
       "      <td>2</td>\n",
       "      <td>False</td>\n",
       "    </tr>\n",
       "    <tr>\n",
       "      <th>22</th>\n",
       "      <td>Nature's Lullabies Second Year Sticker Calendar</td>\n",
       "      <td>I LOVE this calendar for recording events of m...</td>\n",
       "      <td>5</td>\n",
       "      <td>True</td>\n",
       "    </tr>\n",
       "    <tr>\n",
       "      <th>24</th>\n",
       "      <td>Nature's Lullabies Second Year Sticker Calendar</td>\n",
       "      <td>Wife loves this calender. Comes with a lot of ...</td>\n",
       "      <td>5</td>\n",
       "      <td>True</td>\n",
       "    </tr>\n",
       "    <tr>\n",
       "      <th>25</th>\n",
       "      <td>Nature's Lullabies Second Year Sticker Calendar</td>\n",
       "      <td>My daughter had her 1st baby over a year ago. ...</td>\n",
       "      <td>5</td>\n",
       "      <td>True</td>\n",
       "    </tr>\n",
       "    <tr>\n",
       "      <th>26</th>\n",
       "      <td>Baby's First Journal - Green</td>\n",
       "      <td>Extremely useful! As a new mom, tired and inex...</td>\n",
       "      <td>5</td>\n",
       "      <td>True</td>\n",
       "    </tr>\n",
       "    <tr>\n",
       "      <th>28</th>\n",
       "      <td>Lamaze Peekaboo, I Love You</td>\n",
       "      <td>One of baby's first and favorite books, and it...</td>\n",
       "      <td>4</td>\n",
       "      <td>True</td>\n",
       "    </tr>\n",
       "    <tr>\n",
       "      <th>29</th>\n",
       "      <td>Lamaze Peekaboo, I Love You</td>\n",
       "      <td>I like how the book has a hook to attach it to...</td>\n",
       "      <td>5</td>\n",
       "      <td>True</td>\n",
       "    </tr>\n",
       "    <tr>\n",
       "      <th>30</th>\n",
       "      <td>Lamaze Peekaboo, I Love You</td>\n",
       "      <td>Beautiful little book.  A great little short s...</td>\n",
       "      <td>5</td>\n",
       "      <td>True</td>\n",
       "    </tr>\n",
       "    <tr>\n",
       "      <th>31</th>\n",
       "      <td>Lamaze Peekaboo, I Love You</td>\n",
       "      <td>This book is so worth the money. It says 9+ mo...</td>\n",
       "      <td>5</td>\n",
       "      <td>True</td>\n",
       "    </tr>\n",
       "    <tr>\n",
       "      <th>32</th>\n",
       "      <td>Lamaze Peekaboo, I Love You</td>\n",
       "      <td>we just got this book for our one-year-old and...</td>\n",
       "      <td>5</td>\n",
       "      <td>True</td>\n",
       "    </tr>\n",
       "    <tr>\n",
       "      <th>33</th>\n",
       "      <td>Lamaze Peekaboo, I Love You</td>\n",
       "      <td>The book is colorful and is perfect for 6month...</td>\n",
       "      <td>4</td>\n",
       "      <td>True</td>\n",
       "    </tr>\n",
       "    <tr>\n",
       "      <th>...</th>\n",
       "      <td>...</td>\n",
       "      <td>...</td>\n",
       "      <td>...</td>\n",
       "      <td>...</td>\n",
       "    </tr>\n",
       "    <tr>\n",
       "      <th>183499</th>\n",
       "      <td>Maxboost iPhone 5S/5 Case - Protective Snap-on...</td>\n",
       "      <td>I received a free sample from VIPU program for...</td>\n",
       "      <td>5</td>\n",
       "      <td>True</td>\n",
       "    </tr>\n",
       "    <tr>\n",
       "      <th>183500</th>\n",
       "      <td>Maxboost iPhone 5S/5 Case - Protective Snap-on...</td>\n",
       "      <td>Great product, great company! Their daily give...</td>\n",
       "      <td>5</td>\n",
       "      <td>True</td>\n",
       "    </tr>\n",
       "    <tr>\n",
       "      <th>183501</th>\n",
       "      <td>Maxboost iPhone 5S/5 Case - Protective Snap-on...</td>\n",
       "      <td>I received a free sample from VIPU program for...</td>\n",
       "      <td>5</td>\n",
       "      <td>True</td>\n",
       "    </tr>\n",
       "    <tr>\n",
       "      <th>183502</th>\n",
       "      <td>Maxboost iPhone 5S/5 Case - Protective Snap-on...</td>\n",
       "      <td>It got here incredibly fast &amp; it is a nice dur...</td>\n",
       "      <td>5</td>\n",
       "      <td>True</td>\n",
       "    </tr>\n",
       "    <tr>\n",
       "      <th>183503</th>\n",
       "      <td>Maxboost iPhone 5S/5 Case - Protective Snap-on...</td>\n",
       "      <td>I got this case in the mail today, it came on ...</td>\n",
       "      <td>2</td>\n",
       "      <td>False</td>\n",
       "    </tr>\n",
       "    <tr>\n",
       "      <th>183504</th>\n",
       "      <td>Maxboost iPhone 5S/5 Case - Protective Snap-on...</td>\n",
       "      <td>Free caseLove it... The color was great firm h...</td>\n",
       "      <td>5</td>\n",
       "      <td>True</td>\n",
       "    </tr>\n",
       "    <tr>\n",
       "      <th>183505</th>\n",
       "      <td>Maxboost iPhone 5S/5 Case - Protective Snap-on...</td>\n",
       "      <td>I received a free sample from VIPU program for...</td>\n",
       "      <td>5</td>\n",
       "      <td>True</td>\n",
       "    </tr>\n",
       "    <tr>\n",
       "      <th>183506</th>\n",
       "      <td>Maxboost iPhone 5S/5 Case - Protective Snap-on...</td>\n",
       "      <td>This case definitely isn't cheap. It feels ver...</td>\n",
       "      <td>5</td>\n",
       "      <td>True</td>\n",
       "    </tr>\n",
       "    <tr>\n",
       "      <th>183507</th>\n",
       "      <td>Maxboost iPhone 5S/5 Case - Protective Snap-on...</td>\n",
       "      <td>got this for my wife and she loves it would de...</td>\n",
       "      <td>5</td>\n",
       "      <td>True</td>\n",
       "    </tr>\n",
       "    <tr>\n",
       "      <th>183508</th>\n",
       "      <td>Maxboost iPhone 5S/5 Case - Protective Snap-on...</td>\n",
       "      <td>love this case. It fit perfectly and the color...</td>\n",
       "      <td>5</td>\n",
       "      <td>True</td>\n",
       "    </tr>\n",
       "    <tr>\n",
       "      <th>183509</th>\n",
       "      <td>Maxboost iPhone 5S/5 Case - Protective Snap-on...</td>\n",
       "      <td>this case is the greatest very cool and stylis...</td>\n",
       "      <td>5</td>\n",
       "      <td>True</td>\n",
       "    </tr>\n",
       "    <tr>\n",
       "      <th>183510</th>\n",
       "      <td>Maxboost iPhone 5S/5 Case - Protective Snap-on...</td>\n",
       "      <td>Great fit. Really love how red it is.</td>\n",
       "      <td>5</td>\n",
       "      <td>True</td>\n",
       "    </tr>\n",
       "    <tr>\n",
       "      <th>183512</th>\n",
       "      <td>Maxboost iPhone 5S/5 Case - Protective Snap-on...</td>\n",
       "      <td>*I received a free sample from VIPU program fo...</td>\n",
       "      <td>5</td>\n",
       "      <td>True</td>\n",
       "    </tr>\n",
       "    <tr>\n",
       "      <th>183513</th>\n",
       "      <td>Maxboost iPhone 5S/5 Case - Protective Snap-on...</td>\n",
       "      <td>I was a very surprised by the quality of this ...</td>\n",
       "      <td>5</td>\n",
       "      <td>True</td>\n",
       "    </tr>\n",
       "    <tr>\n",
       "      <th>183514</th>\n",
       "      <td>Maxboost iPhone 5S/5 Case - Protective Snap-on...</td>\n",
       "      <td>I received a free sample from VIPU program for...</td>\n",
       "      <td>4</td>\n",
       "      <td>True</td>\n",
       "    </tr>\n",
       "    <tr>\n",
       "      <th>183515</th>\n",
       "      <td>Maxboost iPhone 5S/5 Case - Protective Snap-on...</td>\n",
       "      <td>I love this phone case!  My  iPhone is always ...</td>\n",
       "      <td>5</td>\n",
       "      <td>True</td>\n",
       "    </tr>\n",
       "    <tr>\n",
       "      <th>183517</th>\n",
       "      <td>Baby Mucus Extractor, Nasal Aspirator From Dr....</td>\n",
       "      <td>I recieved this product free of charge and abs...</td>\n",
       "      <td>5</td>\n",
       "      <td>True</td>\n",
       "    </tr>\n",
       "    <tr>\n",
       "      <th>183518</th>\n",
       "      <td>Baby Mucus Extractor, Nasal Aspirator From Dr....</td>\n",
       "      <td>The tube is soft and easy to use, and the tip ...</td>\n",
       "      <td>5</td>\n",
       "      <td>True</td>\n",
       "    </tr>\n",
       "    <tr>\n",
       "      <th>183519</th>\n",
       "      <td>Baby Mucus Extractor, Nasal Aspirator From Dr....</td>\n",
       "      <td>I love this so much. It works way better than ...</td>\n",
       "      <td>5</td>\n",
       "      <td>True</td>\n",
       "    </tr>\n",
       "    <tr>\n",
       "      <th>183520</th>\n",
       "      <td>Baby Mucus Extractor, Nasal Aspirator From Dr....</td>\n",
       "      <td>The aspirator works well but needs to come wit...</td>\n",
       "      <td>4</td>\n",
       "      <td>True</td>\n",
       "    </tr>\n",
       "    <tr>\n",
       "      <th>183521</th>\n",
       "      <td>Airline Seat Belt Extender - The Best Extensio...</td>\n",
       "      <td>Up until recently I have hated flying, putting...</td>\n",
       "      <td>5</td>\n",
       "      <td>True</td>\n",
       "    </tr>\n",
       "    <tr>\n",
       "      <th>183522</th>\n",
       "      <td>Airline Seat Belt Extender - The Best Extensio...</td>\n",
       "      <td>I bought this as a father's day gift for my da...</td>\n",
       "      <td>5</td>\n",
       "      <td>True</td>\n",
       "    </tr>\n",
       "    <tr>\n",
       "      <th>183523</th>\n",
       "      <td>Squeasy Snacker 6oz Silicone Reusable Food Pou...</td>\n",
       "      <td>I love that these can hold purees OR liquids, ...</td>\n",
       "      <td>5</td>\n",
       "      <td>True</td>\n",
       "    </tr>\n",
       "    <tr>\n",
       "      <th>183524</th>\n",
       "      <td>Squeasy Snacker 6oz Silicone Reusable Food Pou...</td>\n",
       "      <td>I love this product, it makes my life easier. ...</td>\n",
       "      <td>5</td>\n",
       "      <td>True</td>\n",
       "    </tr>\n",
       "    <tr>\n",
       "      <th>183525</th>\n",
       "      <td>Squeasy Snacker 6oz Silicone Reusable Food Pou...</td>\n",
       "      <td>This reusable squeeze bottle is the best I hav...</td>\n",
       "      <td>5</td>\n",
       "      <td>True</td>\n",
       "    </tr>\n",
       "    <tr>\n",
       "      <th>183526</th>\n",
       "      <td>Baby Teething Necklace for Mom Pretty Donut Sh...</td>\n",
       "      <td>Such a great idea! very handy to have and look...</td>\n",
       "      <td>5</td>\n",
       "      <td>True</td>\n",
       "    </tr>\n",
       "    <tr>\n",
       "      <th>183527</th>\n",
       "      <td>Baby Teething Necklace for Mom Pretty Donut Sh...</td>\n",
       "      <td>This product rocks!  It is a great blend of fu...</td>\n",
       "      <td>5</td>\n",
       "      <td>True</td>\n",
       "    </tr>\n",
       "    <tr>\n",
       "      <th>183528</th>\n",
       "      <td>Abstract 2 PK Baby / Toddler Training Cup (Pink)</td>\n",
       "      <td>This item looks great and cool for my kids.......</td>\n",
       "      <td>5</td>\n",
       "      <td>True</td>\n",
       "    </tr>\n",
       "    <tr>\n",
       "      <th>183529</th>\n",
       "      <td>Baby Food Freezer Tray - Bacteria Resistant, B...</td>\n",
       "      <td>I am extremely happy with this product. I have...</td>\n",
       "      <td>5</td>\n",
       "      <td>True</td>\n",
       "    </tr>\n",
       "    <tr>\n",
       "      <th>183530</th>\n",
       "      <td>Best 2 Pack Baby Car Shade for Kids - Window S...</td>\n",
       "      <td>I love this product very mush . I have bought ...</td>\n",
       "      <td>5</td>\n",
       "      <td>True</td>\n",
       "    </tr>\n",
       "  </tbody>\n",
       "</table>\n",
       "<p>166752 rows × 4 columns</p>\n",
       "</div>"
      ],
      "text/plain": [
       "                                                     name  \\\n",
       "1                                   Planetwise Wipe Pouch   \n",
       "2                     Annas Dream Full Quilt with 2 Shams   \n",
       "3       Stop Pacifier Sucking without tears with Thumb...   \n",
       "4       Stop Pacifier Sucking without tears with Thumb...   \n",
       "5       Stop Pacifier Sucking without tears with Thumb...   \n",
       "6                 A Tale of Baby's Days with Peter Rabbit   \n",
       "7       Baby Tracker&reg; - Daily Childcare Journal, S...   \n",
       "8       Baby Tracker&reg; - Daily Childcare Journal, S...   \n",
       "9       Baby Tracker&reg; - Daily Childcare Journal, S...   \n",
       "10      Baby Tracker&reg; - Daily Childcare Journal, S...   \n",
       "11      Baby Tracker&reg; - Daily Childcare Journal, S...   \n",
       "12      Baby Tracker&reg; - Daily Childcare Journal, S...   \n",
       "14         Nature's Lullabies First Year Sticker Calendar   \n",
       "15         Nature's Lullabies First Year Sticker Calendar   \n",
       "16         Nature's Lullabies First Year Sticker Calendar   \n",
       "17        Nature's Lullabies Second Year Sticker Calendar   \n",
       "18        Nature's Lullabies Second Year Sticker Calendar   \n",
       "19        Nature's Lullabies Second Year Sticker Calendar   \n",
       "20        Nature's Lullabies Second Year Sticker Calendar   \n",
       "21        Nature's Lullabies Second Year Sticker Calendar   \n",
       "22        Nature's Lullabies Second Year Sticker Calendar   \n",
       "24        Nature's Lullabies Second Year Sticker Calendar   \n",
       "25        Nature's Lullabies Second Year Sticker Calendar   \n",
       "26                           Baby's First Journal - Green   \n",
       "28                            Lamaze Peekaboo, I Love You   \n",
       "29                            Lamaze Peekaboo, I Love You   \n",
       "30                            Lamaze Peekaboo, I Love You   \n",
       "31                            Lamaze Peekaboo, I Love You   \n",
       "32                            Lamaze Peekaboo, I Love You   \n",
       "33                            Lamaze Peekaboo, I Love You   \n",
       "...                                                   ...   \n",
       "183499  Maxboost iPhone 5S/5 Case - Protective Snap-on...   \n",
       "183500  Maxboost iPhone 5S/5 Case - Protective Snap-on...   \n",
       "183501  Maxboost iPhone 5S/5 Case - Protective Snap-on...   \n",
       "183502  Maxboost iPhone 5S/5 Case - Protective Snap-on...   \n",
       "183503  Maxboost iPhone 5S/5 Case - Protective Snap-on...   \n",
       "183504  Maxboost iPhone 5S/5 Case - Protective Snap-on...   \n",
       "183505  Maxboost iPhone 5S/5 Case - Protective Snap-on...   \n",
       "183506  Maxboost iPhone 5S/5 Case - Protective Snap-on...   \n",
       "183507  Maxboost iPhone 5S/5 Case - Protective Snap-on...   \n",
       "183508  Maxboost iPhone 5S/5 Case - Protective Snap-on...   \n",
       "183509  Maxboost iPhone 5S/5 Case - Protective Snap-on...   \n",
       "183510  Maxboost iPhone 5S/5 Case - Protective Snap-on...   \n",
       "183512  Maxboost iPhone 5S/5 Case - Protective Snap-on...   \n",
       "183513  Maxboost iPhone 5S/5 Case - Protective Snap-on...   \n",
       "183514  Maxboost iPhone 5S/5 Case - Protective Snap-on...   \n",
       "183515  Maxboost iPhone 5S/5 Case - Protective Snap-on...   \n",
       "183517  Baby Mucus Extractor, Nasal Aspirator From Dr....   \n",
       "183518  Baby Mucus Extractor, Nasal Aspirator From Dr....   \n",
       "183519  Baby Mucus Extractor, Nasal Aspirator From Dr....   \n",
       "183520  Baby Mucus Extractor, Nasal Aspirator From Dr....   \n",
       "183521  Airline Seat Belt Extender - The Best Extensio...   \n",
       "183522  Airline Seat Belt Extender - The Best Extensio...   \n",
       "183523  Squeasy Snacker 6oz Silicone Reusable Food Pou...   \n",
       "183524  Squeasy Snacker 6oz Silicone Reusable Food Pou...   \n",
       "183525  Squeasy Snacker 6oz Silicone Reusable Food Pou...   \n",
       "183526  Baby Teething Necklace for Mom Pretty Donut Sh...   \n",
       "183527  Baby Teething Necklace for Mom Pretty Donut Sh...   \n",
       "183528   Abstract 2 PK Baby / Toddler Training Cup (Pink)   \n",
       "183529  Baby Food Freezer Tray - Bacteria Resistant, B...   \n",
       "183530  Best 2 Pack Baby Car Shade for Kids - Window S...   \n",
       "\n",
       "                                                   review  rating  sentiment  \n",
       "1       it came early and was not disappointed. i love...       5       True  \n",
       "2       Very soft and comfortable and warmer than it l...       5       True  \n",
       "3       This is a product well worth the purchase.  I ...       5       True  \n",
       "4       All of my kids have cried non-stop when I trie...       5       True  \n",
       "5       When the Binky Fairy came to our house, we did...       5       True  \n",
       "6       Lovely book, it's bound tightly so you may not...       4       True  \n",
       "7       Perfect for new parents. We were able to keep ...       5       True  \n",
       "8       A friend of mine pinned this product on Pinter...       5       True  \n",
       "9       This has been an easy way for my nanny to reco...       4       True  \n",
       "10      I love this journal and our nanny uses it ever...       4       True  \n",
       "11      This book is perfect!  I'm a first time new mo...       5       True  \n",
       "12      I originally just gave the nanny a pad of pape...       4       True  \n",
       "14      Space for monthly photos, info and a lot of us...       5       True  \n",
       "15      I bought this calender for myself for my secon...       4       True  \n",
       "16      I love this little calender, you can keep trac...       5       True  \n",
       "17      This was the only calender I could find for th...       5       True  \n",
       "18      I completed a calendar for my son's first year...       4       True  \n",
       "19      We wanted to get something to keep track of ou...       5       True  \n",
       "20      I had a hard time finding a second year calend...       5       True  \n",
       "21      I only purchased a second-year calendar for my...       2      False  \n",
       "22      I LOVE this calendar for recording events of m...       5       True  \n",
       "24      Wife loves this calender. Comes with a lot of ...       5       True  \n",
       "25      My daughter had her 1st baby over a year ago. ...       5       True  \n",
       "26      Extremely useful! As a new mom, tired and inex...       5       True  \n",
       "28      One of baby's first and favorite books, and it...       4       True  \n",
       "29      I like how the book has a hook to attach it to...       5       True  \n",
       "30      Beautiful little book.  A great little short s...       5       True  \n",
       "31      This book is so worth the money. It says 9+ mo...       5       True  \n",
       "32      we just got this book for our one-year-old and...       5       True  \n",
       "33      The book is colorful and is perfect for 6month...       4       True  \n",
       "...                                                   ...     ...        ...  \n",
       "183499  I received a free sample from VIPU program for...       5       True  \n",
       "183500  Great product, great company! Their daily give...       5       True  \n",
       "183501  I received a free sample from VIPU program for...       5       True  \n",
       "183502  It got here incredibly fast & it is a nice dur...       5       True  \n",
       "183503  I got this case in the mail today, it came on ...       2      False  \n",
       "183504  Free caseLove it... The color was great firm h...       5       True  \n",
       "183505  I received a free sample from VIPU program for...       5       True  \n",
       "183506  This case definitely isn't cheap. It feels ver...       5       True  \n",
       "183507  got this for my wife and she loves it would de...       5       True  \n",
       "183508  love this case. It fit perfectly and the color...       5       True  \n",
       "183509  this case is the greatest very cool and stylis...       5       True  \n",
       "183510              Great fit. Really love how red it is.       5       True  \n",
       "183512  *I received a free sample from VIPU program fo...       5       True  \n",
       "183513  I was a very surprised by the quality of this ...       5       True  \n",
       "183514  I received a free sample from VIPU program for...       4       True  \n",
       "183515  I love this phone case!  My  iPhone is always ...       5       True  \n",
       "183517  I recieved this product free of charge and abs...       5       True  \n",
       "183518  The tube is soft and easy to use, and the tip ...       5       True  \n",
       "183519  I love this so much. It works way better than ...       5       True  \n",
       "183520  The aspirator works well but needs to come wit...       4       True  \n",
       "183521  Up until recently I have hated flying, putting...       5       True  \n",
       "183522  I bought this as a father's day gift for my da...       5       True  \n",
       "183523  I love that these can hold purees OR liquids, ...       5       True  \n",
       "183524  I love this product, it makes my life easier. ...       5       True  \n",
       "183525  This reusable squeeze bottle is the best I hav...       5       True  \n",
       "183526  Such a great idea! very handy to have and look...       5       True  \n",
       "183527  This product rocks!  It is a great blend of fu...       5       True  \n",
       "183528  This item looks great and cool for my kids.......       5       True  \n",
       "183529  I am extremely happy with this product. I have...       5       True  \n",
       "183530  I love this product very mush . I have bought ...       5       True  \n",
       "\n",
       "[166752 rows x 4 columns]"
      ]
     },
     "execution_count": 60,
     "metadata": {},
     "output_type": "execute_result"
    }
   ],
   "source": [
    "data"
   ]
  },
  {
   "cell_type": "code",
   "execution_count": null,
   "metadata": {
    "collapsed": true
   },
   "outputs": [],
   "source": []
  },
  {
   "cell_type": "code",
   "execution_count": null,
   "metadata": {
    "collapsed": true
   },
   "outputs": [],
   "source": []
  },
  {
   "cell_type": "code",
   "execution_count": null,
   "metadata": {
    "collapsed": true
   },
   "outputs": [],
   "source": []
  },
  {
   "cell_type": "code",
   "execution_count": null,
   "metadata": {
    "collapsed": true
   },
   "outputs": [],
   "source": []
  },
  {
   "cell_type": "code",
   "execution_count": null,
   "metadata": {
    "collapsed": true
   },
   "outputs": [],
   "source": []
  }
 ],
 "metadata": {
  "kernelspec": {
   "display_name": "Python 3",
   "language": "python",
   "name": "python3"
  },
  "language_info": {
   "codemirror_mode": {
    "name": "ipython",
    "version": 3
   },
   "file_extension": ".py",
   "mimetype": "text/x-python",
   "name": "python",
   "nbconvert_exporter": "python",
   "pygments_lexer": "ipython3",
   "version": "3.6.3"
  }
 },
 "nbformat": 4,
 "nbformat_minor": 1
}
