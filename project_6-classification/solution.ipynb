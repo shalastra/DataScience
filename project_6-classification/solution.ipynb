{
 "cells": [
  {
   "cell_type": "markdown",
   "metadata": {},
   "source": [
    "# Predicting sentiment from product reviews"
   ]
  },
  {
   "cell_type": "markdown",
   "metadata": {},
   "source": [
    "As usual the most basic imports are on top."
   ]
  },
  {
   "cell_type": "markdown",
   "metadata": {},
   "source": [
    "In this project, we are using data from Amazon, babies products reviews to be specific. \n",
    "We are trying to identify positive and negative reviews based on rating and sentiment written by customers.\n",
    "\n",
    "Solutions like this in machine learning and statistics are called **classification**.\n",
    "\n",
    "Well then, what is classification? \n",
    "\n",
    "*A classification model attempts to draw some conclusion from observed values. Given one or more inputs a classification model will try to predict the value of one or more outcomes. Outcomes are labels that can be applied to a dataset. For example, when filtering emails “spam” or “not spam” , when looking at transaction data, “fraudulent”, or “authorized”*"
   ]
  },
  {
   "cell_type": "code",
   "execution_count": 36,
   "metadata": {},
   "outputs": [],
   "source": [
    "import json\n",
    "import math\n",
    "import operator\n",
    "import string\n",
    "from collections import Counter\n",
    "\n",
    "import numpy as np\n",
    "import pandas as pd\n",
    "import matplotlib.pyplot as plt\n",
    "from sklearn import metrics\n",
    "from sklearn.cross_validation import cross_val_score\n",
    "from sklearn.cross_validation import train_test_split\n",
    "from sklearn.feature_extraction.text import CountVectorizer\n",
    "from sklearn.linear_model import LogisticRegression\n",
    "from sklearn.preprocessing import Imputer"
   ]
  },
  {
   "cell_type": "markdown",
   "metadata": {},
   "source": [
    "### Loading reviews for a set of baby products."
   ]
  },
  {
   "cell_type": "markdown",
   "metadata": {},
   "source": [
    "Firsly, let's read required data from CSV file. In this project we will be working on data from Amazon, and to be more specific, we will be manipulating data about things for babies."
   ]
  },
  {
   "cell_type": "code",
   "execution_count": 37,
   "metadata": {
    "collapsed": true
   },
   "outputs": [],
   "source": [
    "data = pd.read_csv('../lectures/data/amazon_baby.csv')"
   ]
  },
  {
   "cell_type": "markdown",
   "metadata": {},
   "source": [
    "Let's review some data to check how it looks like."
   ]
  },
  {
   "cell_type": "code",
   "execution_count": 38,
   "metadata": {},
   "outputs": [
    {
     "data": {
      "text/html": [
       "<div>\n",
       "<style>\n",
       "    .dataframe thead tr:only-child th {\n",
       "        text-align: right;\n",
       "    }\n",
       "\n",
       "    .dataframe thead th {\n",
       "        text-align: left;\n",
       "    }\n",
       "\n",
       "    .dataframe tbody tr th {\n",
       "        vertical-align: top;\n",
       "    }\n",
       "</style>\n",
       "<table border=\"1\" class=\"dataframe\">\n",
       "  <thead>\n",
       "    <tr style=\"text-align: right;\">\n",
       "      <th></th>\n",
       "      <th>name</th>\n",
       "      <th>review</th>\n",
       "      <th>rating</th>\n",
       "    </tr>\n",
       "  </thead>\n",
       "  <tbody>\n",
       "    <tr>\n",
       "      <th>0</th>\n",
       "      <td>Planetwise Flannel Wipes</td>\n",
       "      <td>These flannel wipes are OK, but in my opinion ...</td>\n",
       "      <td>3</td>\n",
       "    </tr>\n",
       "    <tr>\n",
       "      <th>1</th>\n",
       "      <td>Planetwise Wipe Pouch</td>\n",
       "      <td>it came early and was not disappointed. i love...</td>\n",
       "      <td>5</td>\n",
       "    </tr>\n",
       "    <tr>\n",
       "      <th>2</th>\n",
       "      <td>Annas Dream Full Quilt with 2 Shams</td>\n",
       "      <td>Very soft and comfortable and warmer than it l...</td>\n",
       "      <td>5</td>\n",
       "    </tr>\n",
       "    <tr>\n",
       "      <th>3</th>\n",
       "      <td>Stop Pacifier Sucking without tears with Thumb...</td>\n",
       "      <td>This is a product well worth the purchase.  I ...</td>\n",
       "      <td>5</td>\n",
       "    </tr>\n",
       "    <tr>\n",
       "      <th>4</th>\n",
       "      <td>Stop Pacifier Sucking without tears with Thumb...</td>\n",
       "      <td>All of my kids have cried non-stop when I trie...</td>\n",
       "      <td>5</td>\n",
       "    </tr>\n",
       "  </tbody>\n",
       "</table>\n",
       "</div>"
      ],
      "text/plain": [
       "                                                name  \\\n",
       "0                           Planetwise Flannel Wipes   \n",
       "1                              Planetwise Wipe Pouch   \n",
       "2                Annas Dream Full Quilt with 2 Shams   \n",
       "3  Stop Pacifier Sucking without tears with Thumb...   \n",
       "4  Stop Pacifier Sucking without tears with Thumb...   \n",
       "\n",
       "                                              review  rating  \n",
       "0  These flannel wipes are OK, but in my opinion ...       3  \n",
       "1  it came early and was not disappointed. i love...       5  \n",
       "2  Very soft and comfortable and warmer than it l...       5  \n",
       "3  This is a product well worth the purchase.  I ...       5  \n",
       "4  All of my kids have cried non-stop when I trie...       5  "
      ]
     },
     "execution_count": 38,
     "metadata": {},
     "output_type": "execute_result"
    }
   ],
   "source": [
    "data.head()"
   ]
  },
  {
   "cell_type": "markdown",
   "metadata": {},
   "source": [
    "As we can see, we have four columns: index, name of a object, review of it and rating. \n",
    "In this task we will try to classify and analyze those reviews to find out the best and the worst items."
   ]
  },
  {
   "cell_type": "markdown",
   "metadata": {},
   "source": [
    "### Data cleaning"
   ]
  },
  {
   "cell_type": "markdown",
   "metadata": {},
   "source": [
    "Let's see how the single entry looks like."
   ]
  },
  {
   "cell_type": "code",
   "execution_count": 39,
   "metadata": {},
   "outputs": [
    {
     "data": {
      "text/plain": [
       "'These flannel wipes are OK, but in my opinion not worth keeping.  I also ordered someImse Vimse Cloth Wipes-Ocean Blue-12 countwhich are larger, had a nicer, softer texture and just seemed higher quality.  I use cloth wipes for hands and faces and have been usingThirsties 6 Pack Fab Wipes, Boyfor about 8 months now and need to replace them because they are starting to get rough and have had stink issues for a while that stripping no longer handles.'"
      ]
     },
     "execution_count": 39,
     "metadata": {},
     "output_type": "execute_result"
    }
   ],
   "source": [
    "data['review'][0]"
   ]
  },
  {
   "cell_type": "markdown",
   "metadata": {},
   "source": [
    "Text contains punctuations which we don't need, so we should remove them:"
   ]
  },
  {
   "cell_type": "code",
   "execution_count": 40,
   "metadata": {
    "collapsed": true
   },
   "outputs": [],
   "source": [
    "data['review_clean'] = data['review'].str.replace('[^\\w\\s]', '')"
   ]
  },
  {
   "cell_type": "markdown",
   "metadata": {},
   "source": [
    "Look at reviews 30 to 50, we see some bad data for review"
   ]
  },
  {
   "cell_type": "code",
   "execution_count": 41,
   "metadata": {},
   "outputs": [
    {
     "data": {
      "text/plain": [
       "30    Beautiful little book.  A great little short s...\n",
       "31    This book is so worth the money. It says 9+ mo...\n",
       "32    we just got this book for our one-year-old and...\n",
       "33    The book is colorful and is perfect for 6month...\n",
       "34    The book is cute, and we are huge fans of Lama...\n",
       "35    What a great book for babies!  I'd been lookin...\n",
       "36    My son loved this book as an infant.  It was p...\n",
       "37    Our baby loves this book & has loved it for a ...\n",
       "38                                                  NaN\n",
       "39    My son likes brushing elmo's teeth. Almost too...\n",
       "40    This was a birthday present for my 2 year old ...\n",
       "41    This bear is absolutely adorable and I would g...\n",
       "42    My baby absolutely loves Elmo and so this book...\n",
       "43    I bought two for recent baby showers!  The boo...\n",
       "44    We wanted to get another book like the Big Bir...\n",
       "45    This is a cute little peek-a-boo story book.  ...\n",
       "46    My 3 month old son loves this book. We read it...\n",
       "47    Very cute interactive book! My son loves this ...\n",
       "48    Bought for granddauchildren and they play with...\n",
       "49    I have teething babies and these were great fo...\n",
       "Name: review, dtype: object"
      ]
     },
     "execution_count": 41,
     "metadata": {},
     "output_type": "execute_result"
    }
   ],
   "source": [
    "data['review'][30:50]"
   ]
  },
  {
   "cell_type": "markdown",
   "metadata": {},
   "source": [
    "So let's clean that up"
   ]
  },
  {
   "cell_type": "code",
   "execution_count": 42,
   "metadata": {
    "collapsed": true
   },
   "outputs": [],
   "source": [
    "def cleanNaN(value):\n",
    "    if pd.isnull(value):\n",
    "        return \"\"\n",
    "    else:\n",
    "        return value"
   ]
  },
  {
   "cell_type": "code",
   "execution_count": 43,
   "metadata": {
    "collapsed": true
   },
   "outputs": [],
   "source": [
    "data['review_clean'] = data['review_clean'].apply(cleanNaN)"
   ]
  },
  {
   "cell_type": "markdown",
   "metadata": {},
   "source": [
    "We removed punctuations and empty reviews. Let's review, how data looks after cleanup:"
   ]
  },
  {
   "cell_type": "code",
   "execution_count": 44,
   "metadata": {},
   "outputs": [
    {
     "data": {
      "text/plain": [
       "30    Beautiful little book  A great little short st...\n",
       "31    This book is so worth the money It says 9 mont...\n",
       "32    we just got this book for our oneyearold and s...\n",
       "33    The book is colorful and is perfect for 6month...\n",
       "34    The book is cute and we are huge fans of Lamaz...\n",
       "35    What a great book for babies  Id been looking ...\n",
       "36    My son loved this book as an infant  It was pe...\n",
       "37    Our baby loves this book  has loved it for a w...\n",
       "38                                                     \n",
       "39    My son likes brushing elmos teeth Almost too n...\n",
       "40    This was a birthday present for my 2 year old ...\n",
       "41    This bear is absolutely adorable and I would g...\n",
       "42    My baby absolutely loves Elmo and so this book...\n",
       "43    I bought two for recent baby showers  The book...\n",
       "44    We wanted to get another book like the Big Bir...\n",
       "45    This is a cute little peekaboo story book  Its...\n",
       "46    My 3 month old son loves this book We read it ...\n",
       "47    Very cute interactive book My son loves this b...\n",
       "48    Bought for granddauchildren and they play with...\n",
       "49    I have teething babies and these were great fo...\n",
       "Name: review_clean, dtype: object"
      ]
     },
     "execution_count": 44,
     "metadata": {},
     "output_type": "execute_result"
    }
   ],
   "source": [
    "data['review_clean'][30:50]"
   ]
  },
  {
   "cell_type": "markdown",
   "metadata": {},
   "source": [
    "Now the data looks cleaner. We no longer have the NaN for the 38th review."
   ]
  },
  {
   "cell_type": "markdown",
   "metadata": {},
   "source": [
    "## Define what's a positive and a negative sentiment"
   ]
  },
  {
   "cell_type": "markdown",
   "metadata": {},
   "source": [
    "We will ignore all reviews with rating = 3, since they tend to have a neutral sentiment.  Reviews with a rating of 4 or higher will be considered positive, while the ones with rating of 2 or lower will have a negative sentiment."
   ]
  },
  {
   "cell_type": "code",
   "execution_count": 45,
   "metadata": {
    "collapsed": true
   },
   "outputs": [],
   "source": [
    "data = data[data.rating != 3]  # Ignore neutral ratings\n",
    "\n",
    "data['sentiment'] = data['rating'].apply(lambda rating: +1 if rating > 3 else -1)  # Assign sentiment tags"
   ]
  },
  {
   "cell_type": "markdown",
   "metadata": {},
   "source": [
    "After removing neutral reviews, we stayed with rates **1,2,4,5**, first two are negative sentiments, and the last two - positive. We will mark it in our data frame as a new column, called 'sentiment'.\n",
    "\n",
    "Let's check how the data looks like now."
   ]
  },
  {
   "cell_type": "code",
   "execution_count": 46,
   "metadata": {},
   "outputs": [
    {
     "data": {
      "text/html": [
       "<div>\n",
       "<style>\n",
       "    .dataframe thead tr:only-child th {\n",
       "        text-align: right;\n",
       "    }\n",
       "\n",
       "    .dataframe thead th {\n",
       "        text-align: left;\n",
       "    }\n",
       "\n",
       "    .dataframe tbody tr th {\n",
       "        vertical-align: top;\n",
       "    }\n",
       "</style>\n",
       "<table border=\"1\" class=\"dataframe\">\n",
       "  <thead>\n",
       "    <tr style=\"text-align: right;\">\n",
       "      <th></th>\n",
       "      <th>name</th>\n",
       "      <th>review</th>\n",
       "      <th>rating</th>\n",
       "      <th>review_clean</th>\n",
       "      <th>sentiment</th>\n",
       "    </tr>\n",
       "  </thead>\n",
       "  <tbody>\n",
       "    <tr>\n",
       "      <th>1</th>\n",
       "      <td>Planetwise Wipe Pouch</td>\n",
       "      <td>it came early and was not disappointed. i love...</td>\n",
       "      <td>5</td>\n",
       "      <td>it came early and was not disappointed i love ...</td>\n",
       "      <td>1</td>\n",
       "    </tr>\n",
       "    <tr>\n",
       "      <th>2</th>\n",
       "      <td>Annas Dream Full Quilt with 2 Shams</td>\n",
       "      <td>Very soft and comfortable and warmer than it l...</td>\n",
       "      <td>5</td>\n",
       "      <td>Very soft and comfortable and warmer than it l...</td>\n",
       "      <td>1</td>\n",
       "    </tr>\n",
       "    <tr>\n",
       "      <th>3</th>\n",
       "      <td>Stop Pacifier Sucking without tears with Thumb...</td>\n",
       "      <td>This is a product well worth the purchase.  I ...</td>\n",
       "      <td>5</td>\n",
       "      <td>This is a product well worth the purchase  I h...</td>\n",
       "      <td>1</td>\n",
       "    </tr>\n",
       "    <tr>\n",
       "      <th>4</th>\n",
       "      <td>Stop Pacifier Sucking without tears with Thumb...</td>\n",
       "      <td>All of my kids have cried non-stop when I trie...</td>\n",
       "      <td>5</td>\n",
       "      <td>All of my kids have cried nonstop when I tried...</td>\n",
       "      <td>1</td>\n",
       "    </tr>\n",
       "    <tr>\n",
       "      <th>5</th>\n",
       "      <td>Stop Pacifier Sucking without tears with Thumb...</td>\n",
       "      <td>When the Binky Fairy came to our house, we did...</td>\n",
       "      <td>5</td>\n",
       "      <td>When the Binky Fairy came to our house we didn...</td>\n",
       "      <td>1</td>\n",
       "    </tr>\n",
       "  </tbody>\n",
       "</table>\n",
       "</div>"
      ],
      "text/plain": [
       "                                                name  \\\n",
       "1                              Planetwise Wipe Pouch   \n",
       "2                Annas Dream Full Quilt with 2 Shams   \n",
       "3  Stop Pacifier Sucking without tears with Thumb...   \n",
       "4  Stop Pacifier Sucking without tears with Thumb...   \n",
       "5  Stop Pacifier Sucking without tears with Thumb...   \n",
       "\n",
       "                                              review  rating  \\\n",
       "1  it came early and was not disappointed. i love...       5   \n",
       "2  Very soft and comfortable and warmer than it l...       5   \n",
       "3  This is a product well worth the purchase.  I ...       5   \n",
       "4  All of my kids have cried non-stop when I trie...       5   \n",
       "5  When the Binky Fairy came to our house, we did...       5   \n",
       "\n",
       "                                        review_clean  sentiment  \n",
       "1  it came early and was not disappointed i love ...          1  \n",
       "2  Very soft and comfortable and warmer than it l...          1  \n",
       "3  This is a product well worth the purchase  I h...          1  \n",
       "4  All of my kids have cried nonstop when I tried...          1  \n",
       "5  When the Binky Fairy came to our house we didn...          1  "
      ]
     },
     "execution_count": 46,
     "metadata": {},
     "output_type": "execute_result"
    }
   ],
   "source": [
    "data.head()"
   ]
  },
  {
   "cell_type": "markdown",
   "metadata": {},
   "source": [
    "Number of positive and negative sentiments:"
   ]
  },
  {
   "cell_type": "code",
   "execution_count": 47,
   "metadata": {},
   "outputs": [
    {
     "data": {
      "text/plain": [
       " 1    140259\n",
       "-1     26493\n",
       "Name: sentiment, dtype: int64"
      ]
     },
     "execution_count": 47,
     "metadata": {},
     "output_type": "execute_result"
    }
   ],
   "source": [
    "data.sentiment.value_counts()"
   ]
  },
  {
   "cell_type": "markdown",
   "metadata": {},
   "source": [
    "## Build the word count vector for each review\n",
    "\n",
    "We will now compute the word count for each word that appears in the reviews.\n",
    "A vector consisting of word counts is often referred to as bag-of-word features.\n",
    "Since most words occur in only a few reviews, word count vectors are sparse.\n",
    "For this reason, scikit-learn and many other tools use sparse matrices to\n",
    "store a collection of word count vectors."
   ]
  },
  {
   "cell_type": "markdown",
   "metadata": {},
   "source": [
    "Firstly, we have to create two data sets: training set and test set using built-in method from scilearn."
   ]
  },
  {
   "cell_type": "code",
   "execution_count": 48,
   "metadata": {
    "collapsed": true
   },
   "outputs": [],
   "source": [
    "train_data, test_data = train_test_split(data, test_size=0.2, random_state=42)"
   ]
  },
  {
   "cell_type": "markdown",
   "metadata": {},
   "source": [
    "Then, we have to count occurencies of the words in each review and collect them into a row vector.\n",
    "\n",
    "Finally, we create a sparse matrix, where each row is the word count vector for the corresponding review. We have to do it for both, test and train data sets."
   ]
  },
  {
   "cell_type": "code",
   "execution_count": 49,
   "metadata": {
    "collapsed": true
   },
   "outputs": [],
   "source": [
    "vectorizer = CountVectorizer(token_pattern=r'\\b\\w+\\b')\n",
    "train_matrix = vectorizer.fit_transform(train_data['review_clean'])\n",
    "test_matrix = vectorizer.transform(test_data['review_clean'])"
   ]
  },
  {
   "cell_type": "markdown",
   "metadata": {},
   "source": [
    "In classification model, we will use **Logistic Regression** to calculate probabilites. \n",
    "\n",
    "This is a variation of linear regression, where a model is made to calculate some dependent variable, y, based on some independent variable, x. Then y = mx + b. The model looks for the coefficient m and the y-intercept b."
   ]
  },
  {
   "cell_type": "code",
   "execution_count": 50,
   "metadata": {},
   "outputs": [
    {
     "data": {
      "text/plain": [
       "LogisticRegression(C=1.0, class_weight=None, dual=False, fit_intercept=True,\n",
       "          intercept_scaling=1, max_iter=100, multi_class='ovr', n_jobs=1,\n",
       "          penalty='l2', random_state=None, solver='liblinear', tol=0.0001,\n",
       "          verbose=0, warm_start=False)"
      ]
     },
     "execution_count": 50,
     "metadata": {},
     "output_type": "execute_result"
    }
   ],
   "source": [
    "sentiment_model = LogisticRegression()\n",
    "sentiment_model.fit(train_matrix, train_data['sentiment'])"
   ]
  },
  {
   "cell_type": "code",
   "execution_count": 51,
   "metadata": {
    "collapsed": true
   },
   "outputs": [],
   "source": [
    "dx = sentiment_model.__dict__\n",
    "coefs = dx['coef_'][0]"
   ]
  },
  {
   "cell_type": "markdown",
   "metadata": {},
   "source": [
    "Let's check what is the number of coefficients:"
   ]
  },
  {
   "cell_type": "code",
   "execution_count": 52,
   "metadata": {},
   "outputs": [
    {
     "name": "stdout",
     "output_type": "stream",
     "text": [
      "Number of co-efficients 121871\n"
     ]
    }
   ],
   "source": [
    "print(\"Number of co-efficients\", len(coefs))"
   ]
  },
  {
   "cell_type": "code",
   "execution_count": 53,
   "metadata": {
    "collapsed": true
   },
   "outputs": [],
   "source": [
    "count = 0\n",
    "for co in coefs:\n",
    "    if co >= 0:\n",
    "        count += 1"
   ]
  },
  {
   "cell_type": "markdown",
   "metadata": {
    "collapsed": true
   },
   "source": [
    "And we should review as well the number of non negative coefficients."
   ]
  },
  {
   "cell_type": "code",
   "execution_count": 54,
   "metadata": {},
   "outputs": [
    {
     "name": "stdout",
     "output_type": "stream",
     "text": [
      "Number of non negative coeffs  85814\n"
     ]
    }
   ],
   "source": [
    "print(\"Number of non negative coeffs \", count)"
   ]
  },
  {
   "cell_type": "code",
   "execution_count": 55,
   "metadata": {},
   "outputs": [
    {
     "name": "stdout",
     "output_type": "stream",
     "text": [
      "                                                    name  \\\n",
      "80054  Simple Wishes Hands-Free Breastpump Bra, Pink,...   \n",
      "44765  Moby Wrap UV SPF 50+ 100% Cotton Baby Carrier,...   \n",
      "48173  The First Years American Red Cross Deluxe Nail...   \n",
      "\n",
      "                                                  review  rating  \\\n",
      "80054  I like the idea but the problems:-awkward clos...       2   \n",
      "44765  This is my 2nd Moby, just wanted another color...       5   \n",
      "48173  This is the best nail clipper! Definitely reco...       5   \n",
      "\n",
      "                                            review_clean  sentiment  \n",
      "80054  I like the idea but the problemsawkward closin...         -1  \n",
      "44765  This is my 2nd Moby just wanted another color ...          1  \n",
      "48173  This is the best nail clipper Definitely recom...          1  \n"
     ]
    }
   ],
   "source": [
    "sample_test_data = test_data[10:13]\n",
    "print(sample_test_data)"
   ]
  },
  {
   "cell_type": "code",
   "execution_count": 56,
   "metadata": {},
   "outputs": [
    {
     "name": "stdout",
     "output_type": "stream",
     "text": [
      "[ -0.54655151  17.03374564   4.88448576]\n",
      "[-1  1  1]\n"
     ]
    }
   ],
   "source": [
    "def probability(score):\n",
    "    return (1 / (1 + numpy.exp(-score)))\n",
    "\n",
    "sample_test_matrix = vectorizer.transform(sample_test_data['review_clean'])\n",
    "scores = sentiment_model.decision_function(sample_test_matrix)\n",
    "print(scores)\n",
    "print(sentiment_model.predict(sample_test_matrix))"
   ]
  },
  {
   "cell_type": "code",
   "execution_count": 57,
   "metadata": {
    "collapsed": true
   },
   "outputs": [],
   "source": [
    "test_set_scores = sentiment_model.decision_function(test_matrix)\n",
    "names = test_data[\"name\"]\n",
    "name_predictions = dict(zip(names, test_set_scores))"
   ]
  },
  {
   "cell_type": "code",
   "execution_count": 58,
   "metadata": {
    "collapsed": true
   },
   "outputs": [],
   "source": [
    "sorted_reviews = sorted(name_predictions.items(), key=operator.itemgetter(1), reverse=True)"
   ]
  },
  {
   "cell_type": "markdown",
   "metadata": {},
   "source": [
    "We have our classification model, now we can predict the best 20 reviews and 20 the worst."
   ]
  },
  {
   "cell_type": "code",
   "execution_count": 59,
   "metadata": {},
   "outputs": [
    {
     "name": "stdout",
     "output_type": "stream",
     "text": [
      "[('Zooper 2011 Waltz Standard Stroller, Flax Brown', 63.963700627352594), ('Bumbleride 2011 Flite Lightweight Compact Travel Stroller, Jet', 56.882627606103611), ('Infantino Wrap and Tie Baby Carrier, Black Blueberries', 48.062728748311194), ('Buttons Cloth Diaper Cover - One Size - 8 Color Options', 47.123190592730438), ('Chicco Cortina Keyfit 30 Travel System, Miro', 40.913854370819955), ('phil&amp;teds Smart Buggy Bassinet and Stroller Bundle, Black', 40.572816629945635), ('Thirsties Duo Diaper Snap, Mud, Size One (6-18 lbs)', 39.128469920060709), ('Kiddy City N Move Stroller, Walnut', 38.323828266619657), ('Kolcraft Contours Lite Stroller Plus with iPod DOK in Cosmic', 36.734438584138793), ('bumGenius One-Size Hook &amp; Loop Closure Cloth Diaper 4.0 - Blossom', 36.596545673727505), ('Mamas &amp; Papas 2014 Urbo2 Stroller - Black', 36.542725759087389), ('Dream On Me / Mia Moda  Atmosferra Stroller, Nero', 36.288019253908523), ('Phil &amp; Teds Navigator Buggy Golden Kiwi Free 2nd Seat NAVPR12200', 35.476509445240623), (\"Carter's Child of Mine Baby's First Memory Book &quot;thank heaven for little girls&quot;\", 34.67124085569106), ('OXO Tot Infant On-The-Go Gift Set', 32.317195172205132), ('Baby Jogger City Select Silver Frame Stroller, Onyx', 30.312776924659197), ('Ingenuity Perfect Place High Chair, Kashmir', 30.196772874668092), ('Safety 1st Complete Air 70 Car Seat, Julianne', 29.70630277411879), ('THE TWIN Z PILLOW - BLUE COLOR COVER The only 6 in 1 Twin Pillow Breastfeeding, Bottlefeeding, Tummy Time &amp; Support! A MUST HAVE FOR TWINS! - CUDDLE BLUE DOTS', 29.208619798143282), ('Safety 1st Apex 65 Booster Car Seat', 28.750232241057986)]\n"
     ]
    }
   ],
   "source": [
    "most_positive_reviews = sorted_reviews[:20]\n",
    "print(most_positive_reviews)"
   ]
  },
  {
   "cell_type": "code",
   "execution_count": 60,
   "metadata": {},
   "outputs": [
    {
     "name": "stdout",
     "output_type": "stream",
     "text": [
      "[(\"Graco Pack 'n Play Playard - Dempsey\", -45.631291685698336), ('Zooper Twist Escape Stroller, Summer Day', -41.100818882554201), ('Dream On Me Bassinet, Blue', -30.600691361753562), ('Adiri BPA Free Natural Nurser Ultimate Bottle Stage 1 White, Slow Flow (0-3 months)', -28.502264398284915), (\"Evenflo Expressions Plus High Chair - 3's Company\", -26.672716036785836), ('Peg-Perego Vela Easy Drive Stroller, Geranium', -24.640082440914369), ('Kidz Delight Smithsonian Kids Space Tablet', -21.192190469893958), ('Summer Infant Connect Internet Camera System', -20.587741615436805), ('Chicco Cortina Stroller - Iceberg', -20.30762295874041), ('Newborn Baby Pea in The Pod Halloween Costume, 0-6 Months', -19.886354150268517), ('Moonrest Firm - U Body Pillow Full Support and Comfort Pregnancy Pillow W/cover', -19.832792052837085), ('Munchkin Bath Fun Bubble Blower, Blue', -19.223154142774071), ('Belly Blanket - Chic - Juno', -19.091608544301693), (\"Dr. Brown's Manual Breast Pump\", -19.029289162185115), ('The First Years American Red Cross Underarm Thermometer', -18.190953999291587), ('Secure Start Digital Audio / Video Monitor', -18.001202624830569), ('Sassy Baby 2 Piece Suction Cup Gift Set, Multiple Colors, 894/8369', -17.944717325739532), ('Ju-Ju-Be Be Light Diaper Bag, Black/Silver', -17.803793220545728), ('Munchkin 2 Pack Bottle and Nipple Brush', -17.362692641062651), ('Peg Perego Aria Twin Double Stroller in Toffee', -17.226723930206099), ('Samsung SEW-3037W Wireless Pan Tilt Video Baby Monitor Infrared Night Vision and Zoom, 3.5 inch', -17.156749908221776)]\n"
     ]
    }
   ],
   "source": [
    "most_negative_reviews = sorted_reviews[-1:-22:-1]\n",
    "print(most_negative_reviews)"
   ]
  },
  {
   "cell_type": "code",
   "execution_count": 61,
   "metadata": {
    "collapsed": true
   },
   "outputs": [],
   "source": [
    "def get_accuracy(model, data_matrix, dataset):\n",
    "    predictions = model.predict(data_matrix)\n",
    "\n",
    "    match_predictions_labels = list(zip(predictions, dataset))\n",
    "\n",
    "    correct_count = 0\n",
    "    for prediction, label in match_predictions_labels:\n",
    "        if prediction == label:\n",
    "            correct_count += 1\n",
    "    return (float(correct_count) / len(match_predictions_labels))"
   ]
  },
  {
   "cell_type": "markdown",
   "metadata": {},
   "source": [
    "### Creating a simple model from fewer words"
   ]
  },
  {
   "cell_type": "markdown",
   "metadata": {},
   "source": [
    "Let's see if the prediction will change if instead of all words we will only use some of them. Below there is a list:"
   ]
  },
  {
   "cell_type": "code",
   "execution_count": 62,
   "metadata": {
    "collapsed": true
   },
   "outputs": [],
   "source": [
    "# Classifier with a set of significant words\n",
    "significant_words = ['love', 'great', 'easy', 'old', 'little', 'perfect', 'loves',\n",
    "                     'well', 'able', 'car', 'broke', 'less', 'even', 'waste', 'disappointed',\n",
    "                     'work', 'product', 'money', 'would', 'return']"
   ]
  },
  {
   "cell_type": "code",
   "execution_count": 63,
   "metadata": {
    "collapsed": true
   },
   "outputs": [],
   "source": [
    "vectorizer_word_subset = CountVectorizer(vocabulary=significant_words)  # limit to 20 words\n",
    "train_matrix_word_subset = vectorizer_word_subset.fit_transform(train_data['review_clean'])\n",
    "test_matrix_word_subset = vectorizer_word_subset.transform(test_data['review_clean'])"
   ]
  },
  {
   "cell_type": "code",
   "execution_count": 64,
   "metadata": {},
   "outputs": [
    {
     "data": {
      "text/plain": [
       "LogisticRegression(C=1.0, class_weight=None, dual=False, fit_intercept=True,\n",
       "          intercept_scaling=1, max_iter=100, multi_class='ovr', n_jobs=1,\n",
       "          penalty='l2', random_state=None, solver='liblinear', tol=0.0001,\n",
       "          verbose=0, warm_start=False)"
      ]
     },
     "execution_count": 64,
     "metadata": {},
     "output_type": "execute_result"
    }
   ],
   "source": [
    "simple_model = LogisticRegression()\n",
    "simple_model.fit(train_matrix_word_subset, train_data['sentiment'])"
   ]
  },
  {
   "cell_type": "markdown",
   "metadata": {},
   "source": [
    "After following same steps as with previous, full model, we are reaching table of coefficients based on our smaller list of words."
   ]
  },
  {
   "cell_type": "code",
   "execution_count": 65,
   "metadata": {},
   "outputs": [
    {
     "name": "stdout",
     "output_type": "stream",
     "text": [
      "[('love', 1.3565592559670532), ('great', 0.93048937972061374), ('easy', 1.1910888644846662), ('old', 0.072005039198842907), ('little', 0.50164355689577456), ('perfect', 1.5211189888965249), ('loves', 1.7002126297887026), ('well', 0.49639161162761153), ('able', 0.19415647830513635), ('car', 0.074377846059662883), ('broke', -1.6674849670553094), ('less', -0.20727252888727848), ('even', -0.49098622834527778), ('waste', -2.0078030433921197), ('disappointed', -2.3892080334800854), ('work', -0.63774127627691179), ('product', -0.31254568418594186), ('money', -0.93904501341959745), ('would', -0.33976004912697644), ('return', -2.0778697599616058)]\n"
     ]
    }
   ],
   "source": [
    "simple_model_coef_table = list(zip(significant_words, simple_model.coef_.flatten()))\n",
    "\n",
    "print(simple_model_coef_table)"
   ]
  },
  {
   "cell_type": "code",
   "execution_count": 66,
   "metadata": {
    "collapsed": true
   },
   "outputs": [],
   "source": [
    "train_sentiment_accuracy = get_accuracy(sentiment_model, train_matrix, train_data[\"sentiment\"])\n",
    "test_sentiment_accutacy = get_accuracy(sentiment_model, test_matrix, test_data[\"sentiment\"])\n",
    "train_simple_accuracy = get_accuracy(simple_model, train_matrix_word_subset, train_data[\"sentiment\"])\n",
    "test_simple_accuracy = get_accuracy(simple_model, train_matrix_word_subset, test_data[\"sentiment\"])"
   ]
  },
  {
   "cell_type": "markdown",
   "metadata": {},
   "source": [
    "## Comparison\n",
    "\n",
    "And the most important part - comparing models.\n",
    "\n",
    "We have two of them, first one, called **Sentiment model** is based on all words from reviews. Second one is based on smaller amount of words and it is called **Simple model**.\n",
    "\n",
    "The outcome should be more accurate for Sentiment model, we can see that by comparing accuracy, the higher, the better."
   ]
  },
  {
   "cell_type": "code",
   "execution_count": 67,
   "metadata": {},
   "outputs": [
    {
     "name": "stdout",
     "output_type": "stream",
     "text": [
      "Training Set Accuracy : Sentiment Model  0.966409547154819\n",
      "Test Set Accuracy : Sentiment Model  0.9341548979041108\n",
      "Training Set Accuracy : Simple Model  0.8668600685152286\n",
      "Test Set Accuracy : Simple Model  0.803783994482924\n"
     ]
    }
   ],
   "source": [
    "print(\"Training Set Accuracy : Sentiment Model \", train_sentiment_accuracy)\n",
    "print(\"Test Set Accuracy : Sentiment Model \", test_sentiment_accutacy)\n",
    "print(\"Training Set Accuracy : Simple Model \", train_simple_accuracy)\n",
    "print(\"Test Set Accuracy : Simple Model \", test_simple_accuracy)"
   ]
  },
  {
   "cell_type": "code",
   "execution_count": 68,
   "metadata": {},
   "outputs": [
    {
     "data": {
      "image/png": "[encoded data removed]",
      "text/plain": [
       "<matplotlib.figure.Figure at 0x7f9ebb5ca860>"
      ]
     },
     "metadata": {},
     "output_type": "display_data"
    }
   ],
   "source": [
    "models = ('Sentiment', 'Simple')\n",
    "y_pos = np.arange(len(models))\n",
    "train_accuracy = [train_sentiment_accuracy, train_simple_accuracy]\n",
    " \n",
    "plt.bar(y_pos, train_accuracy, align='center', alpha=0.5)\n",
    "plt.xticks(y_pos, models)\n",
    "plt.ylabel('Accuracy')\n",
    "plt.title('Train data model accuracy')\n",
    " \n",
    "plt.show()"
   ]
  },
  {
   "cell_type": "code",
   "execution_count": 69,
   "metadata": {},
   "outputs": [
    {
     "data": {
      "image/png": "[encoded data removed]",
      "text/plain": [
       "<matplotlib.figure.Figure at 0x7f9ebb5ca320>"
      ]
     },
     "metadata": {},
     "output_type": "display_data"
    }
   ],
   "source": [
    "test_accuracy = [test_sentiment_accutacy, test_simple_accuracy]\n",
    "\n",
    "plt.bar(y_pos, test_accuracy, align='center', alpha=0.5)\n",
    "plt.xticks(y_pos, models)\n",
    "plt.title('Test data model accuracy')\n",
    "\n",
    "plt.show()"
   ]
  },
  {
   "cell_type": "code",
   "execution_count": null,
   "metadata": {
    "collapsed": true
   },
   "outputs": [],
   "source": []
  },
  {
   "cell_type": "code",
   "execution_count": null,
   "metadata": {
    "collapsed": true
   },
   "outputs": [],
   "source": []
  },
  {
   "cell_type": "code",
   "execution_count": null,
   "metadata": {
    "collapsed": true
   },
   "outputs": [],
   "source": []
  },
  {
   "cell_type": "code",
   "execution_count": null,
   "metadata": {
    "collapsed": true
   },
   "outputs": [],
   "source": []
  },
  {
   "cell_type": "code",
   "execution_count": null,
   "metadata": {
    "collapsed": true
   },
   "outputs": [],
   "source": []
  },
  {
   "cell_type": "code",
   "execution_count": null,
   "metadata": {
    "collapsed": true
   },
   "outputs": [],
   "source": []
  }
 ],
 "metadata": {
  "kernelspec": {
   "display_name": "Python 3",
   "language": "python",
   "name": "python3"
  },
  "language_info": {
   "codemirror_mode": {
    "name": "ipython",
    "version": 3
   },
   "file_extension": ".py",
   "mimetype": "text/x-python",
   "name": "python",
   "nbconvert_exporter": "python",
   "pygments_lexer": "ipython3",
   "version": "3.6.3"
  }
 },
 "nbformat": 4,
 "nbformat_minor": 1
}
