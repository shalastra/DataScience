{
 "cells": [
  {
   "cell_type": "code",
   "execution_count": null,
   "metadata": {
    "collapsed": true
   },
   "outputs": [],
   "source": [
    "import numpy as np\n",
    "import pandas as pd\n",
    "from bs4 import BeautifulSoup\n",
    "import requests\n",
    "import re"
   ]
  },
  {
   "cell_type": "code",
   "execution_count": null,
   "metadata": {
    "collapsed": true
   },
   "outputs": [],
   "source": [
    "movies=pd.read_csv('../lectures/data/movies.csv', encoding = \"ISO-8859-1\")\n",
    "links=pd.read_csv('../lectures/data/links.csv', encoding = \"ISO-8859-1\")"
   ]
  },
  {
   "cell_type": "code",
   "execution_count": null,
   "metadata": {
    "collapsed": true
   },
   "outputs": [],
   "source": [
    "pd.options.display.max_rows=12"
   ]
  },
  {
   "cell_type": "code",
   "execution_count": null,
   "metadata": {},
   "outputs": [],
   "source": [
    "movies"
   ]
  },
  {
   "cell_type": "code",
   "execution_count": null,
   "metadata": {},
   "outputs": [],
   "source": [
    "links"
   ]
  },
  {
   "cell_type": "code",
   "execution_count": null,
   "metadata": {
    "collapsed": true
   },
   "outputs": [],
   "source": [
    "merged = pd.merge(movies, links, on='movieId')"
   ]
  },
  {
   "cell_type": "code",
   "execution_count": null,
   "metadata": {},
   "outputs": [],
   "source": [
    "merged"
   ]
  },
  {
   "cell_type": "code",
   "execution_count": null,
   "metadata": {
    "collapsed": true
   },
   "outputs": [],
   "source": [
    "imdb_url = 'http://www.imdb.com/title/tt'\n",
    "themoviedb_url = 'https://www.themoviedb.org/movie/'"
   ]
  },
  {
   "cell_type": "code",
   "execution_count": null,
   "metadata": {
    "collapsed": true
   },
   "outputs": [],
   "source": [
    "def get_all_ratings(url):\n",
    "    limit = 10\n",
    "    ratings = []\n",
    "\n",
    "    for index, row in merged.iterrows():\n",
    "        if (index == limit):\n",
    "            break\n",
    "        req = requests.get(url + str(row.imdbId) + '/')\n",
    "        if not (req.status_code == 200):\n",
    "            return False\n",
    "        \n",
    "        soup = BeautifulSoup(req.text, 'html5lib')\n",
    "        \n",
    "        rating = soup.find(itemprop='ratingValue').get_text()\n",
    "        ratings.append(rating)\n",
    "        \n",
    "    return ratings\n"
   ]
  },
  {
   "cell_type": "code",
   "execution_count": 14,
   "metadata": {
    "collapsed": true
   },
   "outputs": [],
   "source": [
    "def get_ratings_from_themoviedb(url):\n",
    "    limit = 10\n",
    "    ratings = []\n",
    "    \n",
    "    for index, row in merged.iterrows():\n",
    "        if(index == limit):\n",
    "            break\n",
    "        req = requests.get(url + str(row.tmdbId))\n",
    "        \n",
    "        if not (req.status_code == 200):\n",
    "            break\n",
    "        \n",
    "        soup = BeautifulSoup(req.text, 'html5lib')\n",
    "        \n",
    "        rating = soup.findAll('div', attrs = {'name': 'data-percent'})\n",
    "        \n",
    "        print(rating)\n",
    "#         ratings.append(rating)\n",
    "    \n",
    "    return ratings;"
   ]
  },
  {
   "cell_type": "code",
   "execution_count": 15,
   "metadata": {},
   "outputs": [
    {
     "name": "stdout",
     "output_type": "stream",
     "text": [
      "[]\n",
      "[]\n",
      "[]\n",
      "[]\n",
      "[]\n",
      "[]\n",
      "[]\n",
      "[]\n",
      "[]\n",
      "[]\n"
     ]
    }
   ],
   "source": [
    "imdb_ratings = get_all_ratings(imdb_url)\n",
    "tmdb_ratings = get_ratings_from_themoviedb(themoviedb_url)"
   ]
  },
  {
   "cell_type": "code",
   "execution_count": null,
   "metadata": {
    "collapsed": true
   },
   "outputs": [],
   "source": [
    "selected = merged[:10]\n",
    "selected['imdb_ratings'] = imdb_ratings\n",
    "selected['tmfb_ratings'] = tmdb_ratings\n",
    "selected"
   ]
  },
  {
   "cell_type": "code",
   "execution_count": null,
   "metadata": {
    "collapsed": true
   },
   "outputs": [],
   "source": []
  },
  {
   "cell_type": "code",
   "execution_count": null,
   "metadata": {
    "collapsed": true
   },
   "outputs": [],
   "source": []
  }
 ],
 "metadata": {
  "kernelspec": {
   "display_name": "Python 3",
   "language": "python",
   "name": "python3"
  },
  "language_info": {
   "codemirror_mode": {
    "name": "ipython",
    "version": 3
   },
   "file_extension": ".py",
   "mimetype": "text/x-python",
   "name": "python",
   "nbconvert_exporter": "python",
   "pygments_lexer": "ipython3",
   "version": "3.6.3"
  }
 },
 "nbformat": 4,
 "nbformat_minor": 2
}
